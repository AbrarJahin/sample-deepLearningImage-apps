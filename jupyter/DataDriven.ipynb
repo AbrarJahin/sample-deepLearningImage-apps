{
 "cells": [
  {
   "cell_type": "code",
   "execution_count": 1,
   "metadata": {
    "collapsed": false
   },
   "outputs": [
    {
     "name": "stdout",
     "output_type": "stream",
     "text": [
      "Collecting algorithmia\n",
      "  Downloading algorithmia-1.0.8-py2.py3-none-any.whl\n",
      "Requirement already satisfied: requests in /Users/gagejustins/anaconda/lib/python2.7/site-packages (from algorithmia)\n",
      "Requirement already satisfied: six in /Users/gagejustins/.local/lib/python2.7/site-packages (from algorithmia)\n",
      "Requirement already satisfied: enum34 in /Users/gagejustins/anaconda/lib/python2.7/site-packages (from algorithmia)\n",
      "Installing collected packages: algorithmia\n",
      "Successfully installed algorithmia-1.0.8\n"
     ]
    }
   ],
   "source": [
    "!pip install algorithmia"
   ]
  },
  {
   "cell_type": "code",
   "execution_count": 49,
   "metadata": {
    "collapsed": true
   },
   "outputs": [],
   "source": [
    "#Get the API key from your user homepage on Algorithmia\n",
    "apikey = \"sim12DBBcpHLe3k3wkdTWgurNln1\""
   ]
  },
  {
   "cell_type": "code",
   "execution_count": 50,
   "metadata": {
    "collapsed": true
   },
   "outputs": [],
   "source": [
    "#Import algorithmia client and initialize with apikey\n",
    "import Algorithmia\n",
    "client = Algorithmia.client(apikey)"
   ]
  },
  {
   "cell_type": "code",
   "execution_count": 51,
   "metadata": {
    "collapsed": true
   },
   "outputs": [],
   "source": [
    "#Initialize our algorithm\n",
    "s1 = client.algo('demo/s1extract/')"
   ]
  },
  {
   "cell_type": "code",
   "execution_count": 52,
   "metadata": {
    "collapsed": false
   },
   "outputs": [],
   "source": [
    "#Run the keyword algorithm\n",
    "s1Keywords = s1.pipe(\"Twitter\").result\n",
    "#Also try Snap, Okta, Facebook"
   ]
  },
  {
   "cell_type": "code",
   "execution_count": 53,
   "metadata": {
    "collapsed": false
   },
   "outputs": [
    {
     "data": {
      "text/plain": [
       "[u'Development',\n",
       " u'Facebook',\n",
       " u'Google',\n",
       " u'Instagram',\n",
       " u'LinkedIn',\n",
       " u'Microsoft',\n",
       " u'Research']"
      ]
     },
     "execution_count": 53,
     "metadata": {},
     "output_type": "execute_result"
    }
   ],
   "source": [
    "s1Keywords"
   ]
  }
 ],
 "metadata": {
  "anaconda-cloud": {},
  "kernelspec": {
   "display_name": "Python [conda root]",
   "language": "python",
   "name": "conda-root-py"
  },
  "language_info": {
   "codemirror_mode": {
    "name": "ipython",
    "version": 2
   },
   "file_extension": ".py",
   "mimetype": "text/x-python",
   "name": "python",
   "nbconvert_exporter": "python",
   "pygments_lexer": "ipython2",
   "version": "2.7.12"
  }
 },
 "nbformat": 4,
 "nbformat_minor": 1
}
