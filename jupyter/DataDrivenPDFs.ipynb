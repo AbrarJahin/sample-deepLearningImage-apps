{
 "cells": [
  {
   "cell_type": "code",
   "execution_count": 1,
   "metadata": {
    "collapsed": false
   },
   "outputs": [
    {
     "name": "stdout",
     "output_type": "stream",
     "text": [
      "Collecting algorithmia\n",
      "  Downloading algorithmia-1.0.8-py2.py3-none-any.whl\n",
      "Requirement already satisfied: requests in /Users/gagejustins/anaconda/lib/python2.7/site-packages (from algorithmia)\n",
      "Requirement already satisfied: six in /Users/gagejustins/.local/lib/python2.7/site-packages (from algorithmia)\n",
      "Requirement already satisfied: enum34 in /Users/gagejustins/anaconda/lib/python2.7/site-packages (from algorithmia)\n",
      "Installing collected packages: algorithmia\n",
      "Successfully installed algorithmia-1.0.8\n"
     ]
    }
   ],
   "source": [
    "!pip install algorithmia"
   ]
  },
  {
   "cell_type": "code",
   "execution_count": 7,
   "metadata": {
    "collapsed": true
   },
   "outputs": [],
   "source": [
    "#Get your own API key from your user homepage on Algorithmia; this will only work for demos\n",
    "apikey = \"sim12DBBcpHLe3k3wkdTWgurNln1\""
   ]
  },
  {
   "cell_type": "code",
   "execution_count": 24,
   "metadata": {
    "collapsed": true
   },
   "outputs": [],
   "source": [
    "#Import algorithmia client and initialize with apikey\n",
    "import Algorithmia\n",
    "client = Algorithmia.client(apikey)"
   ]
  },
  {
   "cell_type": "code",
   "execution_count": 25,
   "metadata": {
    "collapsed": true
   },
   "outputs": [],
   "source": [
    "#Initialize our algorithm\n",
    "keywords = client.algo('demo/PDFtoKeywords/0.1.1')\n",
    "namedEntities = client.algo('demo/PDFtoNamedEntities/0.1.2')"
   ]
  },
  {
   "cell_type": "code",
   "execution_count": 22,
   "metadata": {
    "collapsed": false
   },
   "outputs": [],
   "source": [
    "#Run the keyword algorithm\n",
    "try:\n",
    "    s1Keywords = keywords.pipe(\"data://gagejustins/DataDrivenPDFs/\").result\n",
    "except:\n",
    "    print(\"Something went wrong!\")"
   ]
  },
  {
   "cell_type": "code",
   "execution_count": 26,
   "metadata": {
    "collapsed": false
   },
   "outputs": [
    {
     "name": "stdout",
     "output_type": "stream",
     "text": [
      "Something went wrong!\n"
     ]
    }
   ],
   "source": [
    "#Run the namedEntities algorithm\n",
    "try:\n",
    "    s1NamedEntities = namedEntities.pipe(\"data://gagejustins/DataDrivenPDFs/\").result\n",
    "except:\n",
    "    print(\"Something went wrong!\")"
   ]
  }
 ],
 "metadata": {
  "anaconda-cloud": {},
  "kernelspec": {
   "display_name": "Python [conda root]",
   "language": "python",
   "name": "conda-root-py"
  },
  "language_info": {
   "codemirror_mode": {
    "name": "ipython",
    "version": 2
   },
   "file_extension": ".py",
   "mimetype": "text/x-python",
   "name": "python",
   "nbconvert_exporter": "python",
   "pygments_lexer": "ipython2",
   "version": "2.7.12"
  }
 },
 "nbformat": 4,
 "nbformat_minor": 1
}
